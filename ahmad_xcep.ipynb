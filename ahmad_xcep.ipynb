{
  "nbformat": 4,
  "nbformat_minor": 0,
  "metadata": {
    "colab": {
      "name": "ahmad_xcep.ipynb",
      "provenance": [],
      "collapsed_sections": [],
      "machine_shape": "hm",
      "include_colab_link": true
    },
    "kernelspec": {
      "name": "python3",
      "display_name": "Python 3"
    },
    "accelerator": "GPU"
  },
  "cells": [
    {
      "cell_type": "markdown",
      "metadata": {
        "id": "view-in-github",
        "colab_type": "text"
      },
      "source": [
        "<a href=\"https://colab.research.google.com/github/AhmadSaleh22/BrainTumor/blob/master/ahmad_xcep.ipynb\" target=\"_parent\"><img src=\"https://colab.research.google.com/assets/colab-badge.svg\" alt=\"Open In Colab\"/></a>"
      ]
    },
    {
      "cell_type": "code",
      "metadata": {
        "id": "-iOM5sqmbWbv",
        "colab_type": "code",
        "colab": {
          "base_uri": "https://localhost:8080/",
          "height": 34
        },
        "outputId": "5d335029-a6bd-4fa0-9a8f-512c38c344e7"
      },
      "source": [
        "from google.colab import drive\n",
        "drive.mount('/content/gdrive')"
      ],
      "execution_count": null,
      "outputs": [
        {
          "output_type": "stream",
          "text": [
            "Drive already mounted at /content/gdrive; to attempt to forcibly remount, call drive.mount(\"/content/gdrive\", force_remount=True).\n"
          ],
          "name": "stdout"
        }
      ]
    },
    {
      "cell_type": "code",
      "metadata": {
        "id": "JvOrZ2Z2_Zmk",
        "colab_type": "code",
        "colab": {}
      },
      "source": [
        "import zipfile\n",
        "import shutil, os\n",
        "\n",
        "fantasy_zip = zipfile.ZipFile('/content/gdrive/My Drive/brain-umer-4-classes.zip')\n",
        "fantasy_zip.extractall('/content/gdrive/My Drive/ahmad-saleh')\n",
        "fantasy_zip.close()"
      ],
      "execution_count": null,
      "outputs": []
    },
    {
      "cell_type": "code",
      "metadata": {
        "id": "0niSzbjWclF3",
        "colab_type": "code",
        "colab": {}
      },
      "source": [
        "%tensorflow_version 1.x"
      ],
      "execution_count": null,
      "outputs": []
    },
    {
      "cell_type": "code",
      "metadata": {
        "id": "PwZ2jToObZMr",
        "colab_type": "code",
        "colab": {}
      },
      "source": [
        "base_dir=\"/content/gdrive/My Drive/ahmad-saleh\""
      ],
      "execution_count": null,
      "outputs": []
    },
    {
      "cell_type": "code",
      "metadata": {
        "id": "BBOqyPakLqRG",
        "colab_type": "code",
        "colab": {
          "base_uri": "https://localhost:8080/",
          "height": 84
        },
        "outputId": "477ac9ca-5de4-4310-f998-f9a46dad2c8a"
      },
      "source": [
        "#number of files in each class\n",
        "\n",
        "import fnmatch\n",
        "import os\n",
        "\n",
        "  \n",
        "for i in os.listdir(base_dir+\"/Training\"):\n",
        "    dir_name=base_dir+\"/Training/\"+i \n",
        "    numfiles = len([f for f in os.listdir(dir_name) if os.path.isfile(os.path.join(dir_name, f)) and f[0] != '.'])\n",
        "    print(numfiles,i)"
      ],
      "execution_count": null,
      "outputs": [
        {
          "output_type": "stream",
          "text": [
            "826 glioma_tumor\n",
            "822 meningioma_tumor\n",
            "395 no_tumor\n",
            "827 pituitary_tumor\n"
          ],
          "name": "stdout"
        }
      ]
    },
    {
      "cell_type": "code",
      "metadata": {
        "id": "DOFvuFmNkWaf",
        "colab_type": "code",
        "colab": {
          "base_uri": "https://localhost:8080/",
          "height": 84
        },
        "outputId": "46a1b696-97bd-471c-a45b-aceb9559933b"
      },
      "source": [
        "#number of files in each class\n",
        "\n",
        "import fnmatch\n",
        "import os\n",
        "\n",
        "\n",
        "for i in os.listdir(base_dir+\"/Testing\"):\n",
        "    dir_name=base_dir+\"/Testing/\"+i \n",
        "    numfiles = len([f for f in os.listdir(dir_name) if os.path.isfile(os.path.join(dir_name, f)) and f[0] != '.'])\n",
        "    print(numfiles,i)"
      ],
      "execution_count": null,
      "outputs": [
        {
          "output_type": "stream",
          "text": [
            "100 glioma_tumor\n",
            "115 meningioma_tumor\n",
            "105 no_tumor\n",
            "74 pituitary_tumor\n"
          ],
          "name": "stdout"
        }
      ]
    },
    {
      "cell_type": "code",
      "metadata": {
        "id": "mYLHQicQ0JND",
        "colab_type": "code",
        "colab": {}
      },
      "source": [
        "from keras.preprocessing.image import ImageDataGenerator\n",
        "from keras.applications import densenet\n",
        "from keras.models import Sequential, Model, load_model\n",
        "from keras.layers import Conv2D, MaxPooling2D\n",
        "from keras.layers import Activation, Dropout, Flatten, Dense\n",
        "from keras.callbacks import EarlyStopping, ReduceLROnPlateau, ModelCheckpoint, Callback\n",
        "from keras import regularizers\n",
        "from keras import backend as K"
      ],
      "execution_count": null,
      "outputs": []
    },
    {
      "cell_type": "code",
      "metadata": {
        "id": "iCGFp9d_1zRd",
        "colab_type": "code",
        "colab": {}
      },
      "source": [
        "img_width, img_height = 256, 256\n",
        "nb_train_samples = 2870\n",
        "nb_validation_samples = 2870\n",
        "epochs = 20\n",
        "batch_size = 128\n",
        "n_classes = 4"
      ],
      "execution_count": null,
      "outputs": []
    },
    {
      "cell_type": "code",
      "metadata": {
        "id": "aWJaXH9z66Zr",
        "colab_type": "code",
        "colab": {
          "base_uri": "https://localhost:8080/",
          "height": 118
        },
        "outputId": "71c3d7f4-c9fa-441d-c8ab-755e1db2be8e"
      },
      "source": [
        "import fnmatch\n",
        "import os\n",
        "import numpy as np\n",
        "import pandas as pd\n",
        "from keras.applications.vgg16 import preprocess_input\n",
        "from keras.preprocessing import image\n",
        "\n",
        "np.random.seed(41)\n",
        "\n",
        "path = base_dir+\"/Training/\"\n",
        "train_label = []\n",
        "train_img = []\n",
        "label2num = {'glioma_tumor':0,'meningioma_tumor':1,'no_tumor':2, 'pituitary_tumor':3}\n",
        "\n",
        "num_classes = 4\n",
        "\n",
        "for i in os.listdir(path):\n",
        "    print(i)\n",
        "    label_number = label2num[i]\n",
        "    new_path = path+i+'/'  \n",
        "    for j in fnmatch.filter(os.listdir(new_path), '*.jpg'): \n",
        "        temp_img = image.load_img(new_path+j, target_size=(256,256))\n",
        "        train_label.append(label_number)\n",
        "        temp_img = image.img_to_array(temp_img)\n",
        "        train_img.append(temp_img)\n",
        "        \n",
        "train_img = np.array(train_img)\n",
        "train_y=pd.get_dummies(train_label)\n",
        "train_y = np.array(train_y)\n",
        "train_img=preprocess_input(train_img)\n",
        "\n",
        "\n",
        "\n",
        "print('Training data shape: ', train_img.shape)\n",
        "print('Training labels shape: ', train_y.shape)\n",
        "\n"
      ],
      "execution_count": null,
      "outputs": [
        {
          "output_type": "stream",
          "text": [
            "glioma_tumor\n",
            "meningioma_tumor\n",
            "no_tumor\n",
            "pituitary_tumor\n",
            "Training data shape:  (2870, 256, 256, 3)\n",
            "Training labels shape:  (2870, 4)\n"
          ],
          "name": "stdout"
        }
      ]
    },
    {
      "cell_type": "code",
      "metadata": {
        "id": "fSedYTy4q94-",
        "colab_type": "code",
        "colab": {}
      },
      "source": [
        "import keras\n",
        "from keras import models, layers\n",
        "from keras.models import Sequential,Model\n",
        "from keras.layers import Dense, Dropout, Flatten, Activation\n",
        "from keras.layers import Conv2D, MaxPooling2D\n",
        "from keras.layers.normalization import BatchNormalization\n",
        "from keras import applications\n",
        "from keras.preprocessing.image import ImageDataGenerator \n",
        "from keras import optimizers\n",
        "from keras.models import Sequential,Model,load_model\n",
        "from keras.layers import GlobalMaxPooling2D\n",
        "from keras.callbacks import TensorBoard,ReduceLROnPlateau,ModelCheckpoint\n",
        "\n",
        "def new_model1(num_classes=None):\n",
        "\n",
        "    base_model = applications.Xception(weights= 'imagenet', include_top=False, input_shape= (256,256,3))\n",
        "\n",
        "    x = base_model.output\n",
        "    x = GlobalMaxPooling2D()(x)\n",
        "    predictions = Dense(num_classes, activation= 'softmax')(x)\n",
        "    model = Model(inputs = base_model.input, outputs = predictions)\n",
        " \n",
        "\n",
        "    return model"
      ],
      "execution_count": null,
      "outputs": []
    },
    {
      "cell_type": "code",
      "metadata": {
        "id": "Z3mLYPG3-F9f",
        "colab_type": "code",
        "colab": {}
      },
      "source": [
        "def precision(y_true, y_pred):\n",
        "    true_positives = K.sum(K.round(K.clip(y_true * y_pred, 0, 1)))\n",
        "    predicted_positives = K.sum(K.round(K.clip(y_pred, 0, 1)))\n",
        "    precision = true_positives / (predicted_positives + K.epsilon())\n",
        "    return precision\n",
        "\n",
        "\n",
        "def recall(y_true, y_pred):\n",
        "    true_positives = K.sum(K.round(K.clip(y_true * y_pred, 0, 1)))\n",
        "    possible_positives = K.sum(K.round(K.clip(y_true, 0, 1)))\n",
        "    recall = true_positives / (possible_positives + K.epsilon())\n",
        "    return recall\n",
        "\n",
        "\n",
        "def fscore(y_true, y_pred):\n",
        "    if K.sum(K.round(K.clip(y_true, 0, 1))) == 0:\n",
        "        return 0\n",
        "\n",
        "    p = precision(y_true, y_pred)\n",
        "    r = recall(y_true, y_pred)\n",
        "    f_score = 2 * (p * r) / (p + r + K.epsilon())\n",
        "    return f_score"
      ],
      "execution_count": null,
      "outputs": []
    },
    {
      "cell_type": "code",
      "metadata": {
        "id": "cm1fNlplNSbn",
        "colab_type": "code",
        "colab": {
          "base_uri": "https://localhost:8080/",
          "height": 1000
        },
        "outputId": "8771558f-439f-4aa5-f96f-5808df1666ce"
      },
      "source": [
        "import keras\n",
        "from keras import backend as K\n",
        "num_classes=4\n",
        "model = new_model1(num_classes)\n",
        "\n",
        "model.compile(keras.optimizers.Adam(lr=0.0001), loss='categorical_crossentropy', metrics=['accuracy',fscore])\n",
        "model.summary()"
      ],
      "execution_count": null,
      "outputs": [
        {
          "output_type": "stream",
          "text": [
            "Downloading data from https://github.com/fchollet/deep-learning-models/releases/download/v0.4/xception_weights_tf_dim_ordering_tf_kernels_notop.h5\n",
            "83689472/83683744 [==============================] - 2s 0us/step\n",
            "Model: \"model_5\"\n",
            "__________________________________________________________________________________________________\n",
            "Layer (type)                    Output Shape         Param #     Connected to                     \n",
            "==================================================================================================\n",
            "input_5 (InputLayer)            (None, 256, 256, 3)  0                                            \n",
            "__________________________________________________________________________________________________\n",
            "block1_conv1 (Conv2D)           (None, 127, 127, 32) 864         input_5[0][0]                    \n",
            "__________________________________________________________________________________________________\n",
            "block1_conv1_bn (BatchNormaliza (None, 127, 127, 32) 128         block1_conv1[0][0]               \n",
            "__________________________________________________________________________________________________\n",
            "block1_conv1_act (Activation)   (None, 127, 127, 32) 0           block1_conv1_bn[0][0]            \n",
            "__________________________________________________________________________________________________\n",
            "block1_conv2 (Conv2D)           (None, 125, 125, 64) 18432       block1_conv1_act[0][0]           \n",
            "__________________________________________________________________________________________________\n",
            "block1_conv2_bn (BatchNormaliza (None, 125, 125, 64) 256         block1_conv2[0][0]               \n",
            "__________________________________________________________________________________________________\n",
            "block1_conv2_act (Activation)   (None, 125, 125, 64) 0           block1_conv2_bn[0][0]            \n",
            "__________________________________________________________________________________________________\n",
            "block2_sepconv1 (SeparableConv2 (None, 125, 125, 128 8768        block1_conv2_act[0][0]           \n",
            "__________________________________________________________________________________________________\n",
            "block2_sepconv1_bn (BatchNormal (None, 125, 125, 128 512         block2_sepconv1[0][0]            \n",
            "__________________________________________________________________________________________________\n",
            "block2_sepconv2_act (Activation (None, 125, 125, 128 0           block2_sepconv1_bn[0][0]         \n",
            "__________________________________________________________________________________________________\n",
            "block2_sepconv2 (SeparableConv2 (None, 125, 125, 128 17536       block2_sepconv2_act[0][0]        \n",
            "__________________________________________________________________________________________________\n",
            "block2_sepconv2_bn (BatchNormal (None, 125, 125, 128 512         block2_sepconv2[0][0]            \n",
            "__________________________________________________________________________________________________\n",
            "conv2d_95 (Conv2D)              (None, 63, 63, 128)  8192        block1_conv2_act[0][0]           \n",
            "__________________________________________________________________________________________________\n",
            "block2_pool (MaxPooling2D)      (None, 63, 63, 128)  0           block2_sepconv2_bn[0][0]         \n",
            "__________________________________________________________________________________________________\n",
            "batch_normalization_95 (BatchNo (None, 63, 63, 128)  512         conv2d_95[0][0]                  \n",
            "__________________________________________________________________________________________________\n",
            "add_17 (Add)                    (None, 63, 63, 128)  0           block2_pool[0][0]                \n",
            "                                                                 batch_normalization_95[0][0]     \n",
            "__________________________________________________________________________________________________\n",
            "block3_sepconv1_act (Activation (None, 63, 63, 128)  0           add_17[0][0]                     \n",
            "__________________________________________________________________________________________________\n",
            "block3_sepconv1 (SeparableConv2 (None, 63, 63, 256)  33920       block3_sepconv1_act[0][0]        \n",
            "__________________________________________________________________________________________________\n",
            "block3_sepconv1_bn (BatchNormal (None, 63, 63, 256)  1024        block3_sepconv1[0][0]            \n",
            "__________________________________________________________________________________________________\n",
            "block3_sepconv2_act (Activation (None, 63, 63, 256)  0           block3_sepconv1_bn[0][0]         \n",
            "__________________________________________________________________________________________________\n",
            "block3_sepconv2 (SeparableConv2 (None, 63, 63, 256)  67840       block3_sepconv2_act[0][0]        \n",
            "__________________________________________________________________________________________________\n",
            "block3_sepconv2_bn (BatchNormal (None, 63, 63, 256)  1024        block3_sepconv2[0][0]            \n",
            "__________________________________________________________________________________________________\n",
            "conv2d_96 (Conv2D)              (None, 32, 32, 256)  32768       add_17[0][0]                     \n",
            "__________________________________________________________________________________________________\n",
            "block3_pool (MaxPooling2D)      (None, 32, 32, 256)  0           block3_sepconv2_bn[0][0]         \n",
            "__________________________________________________________________________________________________\n",
            "batch_normalization_96 (BatchNo (None, 32, 32, 256)  1024        conv2d_96[0][0]                  \n",
            "__________________________________________________________________________________________________\n",
            "add_18 (Add)                    (None, 32, 32, 256)  0           block3_pool[0][0]                \n",
            "                                                                 batch_normalization_96[0][0]     \n",
            "__________________________________________________________________________________________________\n",
            "block4_sepconv1_act (Activation (None, 32, 32, 256)  0           add_18[0][0]                     \n",
            "__________________________________________________________________________________________________\n",
            "block4_sepconv1 (SeparableConv2 (None, 32, 32, 728)  188672      block4_sepconv1_act[0][0]        \n",
            "__________________________________________________________________________________________________\n",
            "block4_sepconv1_bn (BatchNormal (None, 32, 32, 728)  2912        block4_sepconv1[0][0]            \n",
            "__________________________________________________________________________________________________\n",
            "block4_sepconv2_act (Activation (None, 32, 32, 728)  0           block4_sepconv1_bn[0][0]         \n",
            "__________________________________________________________________________________________________\n",
            "block4_sepconv2 (SeparableConv2 (None, 32, 32, 728)  536536      block4_sepconv2_act[0][0]        \n",
            "__________________________________________________________________________________________________\n",
            "block4_sepconv2_bn (BatchNormal (None, 32, 32, 728)  2912        block4_sepconv2[0][0]            \n",
            "__________________________________________________________________________________________________\n",
            "conv2d_97 (Conv2D)              (None, 16, 16, 728)  186368      add_18[0][0]                     \n",
            "__________________________________________________________________________________________________\n",
            "block4_pool (MaxPooling2D)      (None, 16, 16, 728)  0           block4_sepconv2_bn[0][0]         \n",
            "__________________________________________________________________________________________________\n",
            "batch_normalization_97 (BatchNo (None, 16, 16, 728)  2912        conv2d_97[0][0]                  \n",
            "__________________________________________________________________________________________________\n",
            "add_19 (Add)                    (None, 16, 16, 728)  0           block4_pool[0][0]                \n",
            "                                                                 batch_normalization_97[0][0]     \n",
            "__________________________________________________________________________________________________\n",
            "block5_sepconv1_act (Activation (None, 16, 16, 728)  0           add_19[0][0]                     \n",
            "__________________________________________________________________________________________________\n",
            "block5_sepconv1 (SeparableConv2 (None, 16, 16, 728)  536536      block5_sepconv1_act[0][0]        \n",
            "__________________________________________________________________________________________________\n",
            "block5_sepconv1_bn (BatchNormal (None, 16, 16, 728)  2912        block5_sepconv1[0][0]            \n",
            "__________________________________________________________________________________________________\n",
            "block5_sepconv2_act (Activation (None, 16, 16, 728)  0           block5_sepconv1_bn[0][0]         \n",
            "__________________________________________________________________________________________________\n",
            "block5_sepconv2 (SeparableConv2 (None, 16, 16, 728)  536536      block5_sepconv2_act[0][0]        \n",
            "__________________________________________________________________________________________________\n",
            "block5_sepconv2_bn (BatchNormal (None, 16, 16, 728)  2912        block5_sepconv2[0][0]            \n",
            "__________________________________________________________________________________________________\n",
            "block5_sepconv3_act (Activation (None, 16, 16, 728)  0           block5_sepconv2_bn[0][0]         \n",
            "__________________________________________________________________________________________________\n",
            "block5_sepconv3 (SeparableConv2 (None, 16, 16, 728)  536536      block5_sepconv3_act[0][0]        \n",
            "__________________________________________________________________________________________________\n",
            "block5_sepconv3_bn (BatchNormal (None, 16, 16, 728)  2912        block5_sepconv3[0][0]            \n",
            "__________________________________________________________________________________________________\n",
            "add_20 (Add)                    (None, 16, 16, 728)  0           block5_sepconv3_bn[0][0]         \n",
            "                                                                 add_19[0][0]                     \n",
            "__________________________________________________________________________________________________\n",
            "block6_sepconv1_act (Activation (None, 16, 16, 728)  0           add_20[0][0]                     \n",
            "__________________________________________________________________________________________________\n",
            "block6_sepconv1 (SeparableConv2 (None, 16, 16, 728)  536536      block6_sepconv1_act[0][0]        \n",
            "__________________________________________________________________________________________________\n",
            "block6_sepconv1_bn (BatchNormal (None, 16, 16, 728)  2912        block6_sepconv1[0][0]            \n",
            "__________________________________________________________________________________________________\n",
            "block6_sepconv2_act (Activation (None, 16, 16, 728)  0           block6_sepconv1_bn[0][0]         \n",
            "__________________________________________________________________________________________________\n",
            "block6_sepconv2 (SeparableConv2 (None, 16, 16, 728)  536536      block6_sepconv2_act[0][0]        \n",
            "__________________________________________________________________________________________________\n",
            "block6_sepconv2_bn (BatchNormal (None, 16, 16, 728)  2912        block6_sepconv2[0][0]            \n",
            "__________________________________________________________________________________________________\n",
            "block6_sepconv3_act (Activation (None, 16, 16, 728)  0           block6_sepconv2_bn[0][0]         \n",
            "__________________________________________________________________________________________________\n",
            "block6_sepconv3 (SeparableConv2 (None, 16, 16, 728)  536536      block6_sepconv3_act[0][0]        \n",
            "__________________________________________________________________________________________________\n",
            "block6_sepconv3_bn (BatchNormal (None, 16, 16, 728)  2912        block6_sepconv3[0][0]            \n",
            "__________________________________________________________________________________________________\n",
            "add_21 (Add)                    (None, 16, 16, 728)  0           block6_sepconv3_bn[0][0]         \n",
            "                                                                 add_20[0][0]                     \n",
            "__________________________________________________________________________________________________\n",
            "block7_sepconv1_act (Activation (None, 16, 16, 728)  0           add_21[0][0]                     \n",
            "__________________________________________________________________________________________________\n",
            "block7_sepconv1 (SeparableConv2 (None, 16, 16, 728)  536536      block7_sepconv1_act[0][0]        \n",
            "__________________________________________________________________________________________________\n",
            "block7_sepconv1_bn (BatchNormal (None, 16, 16, 728)  2912        block7_sepconv1[0][0]            \n",
            "__________________________________________________________________________________________________\n",
            "block7_sepconv2_act (Activation (None, 16, 16, 728)  0           block7_sepconv1_bn[0][0]         \n",
            "__________________________________________________________________________________________________\n",
            "block7_sepconv2 (SeparableConv2 (None, 16, 16, 728)  536536      block7_sepconv2_act[0][0]        \n",
            "__________________________________________________________________________________________________\n",
            "block7_sepconv2_bn (BatchNormal (None, 16, 16, 728)  2912        block7_sepconv2[0][0]            \n",
            "__________________________________________________________________________________________________\n",
            "block7_sepconv3_act (Activation (None, 16, 16, 728)  0           block7_sepconv2_bn[0][0]         \n",
            "__________________________________________________________________________________________________\n",
            "block7_sepconv3 (SeparableConv2 (None, 16, 16, 728)  536536      block7_sepconv3_act[0][0]        \n",
            "__________________________________________________________________________________________________\n",
            "block7_sepconv3_bn (BatchNormal (None, 16, 16, 728)  2912        block7_sepconv3[0][0]            \n",
            "__________________________________________________________________________________________________\n",
            "add_22 (Add)                    (None, 16, 16, 728)  0           block7_sepconv3_bn[0][0]         \n",
            "                                                                 add_21[0][0]                     \n",
            "__________________________________________________________________________________________________\n",
            "block8_sepconv1_act (Activation (None, 16, 16, 728)  0           add_22[0][0]                     \n",
            "__________________________________________________________________________________________________\n",
            "block8_sepconv1 (SeparableConv2 (None, 16, 16, 728)  536536      block8_sepconv1_act[0][0]        \n",
            "__________________________________________________________________________________________________\n",
            "block8_sepconv1_bn (BatchNormal (None, 16, 16, 728)  2912        block8_sepconv1[0][0]            \n",
            "__________________________________________________________________________________________________\n",
            "block8_sepconv2_act (Activation (None, 16, 16, 728)  0           block8_sepconv1_bn[0][0]         \n",
            "__________________________________________________________________________________________________\n",
            "block8_sepconv2 (SeparableConv2 (None, 16, 16, 728)  536536      block8_sepconv2_act[0][0]        \n",
            "__________________________________________________________________________________________________\n",
            "block8_sepconv2_bn (BatchNormal (None, 16, 16, 728)  2912        block8_sepconv2[0][0]            \n",
            "__________________________________________________________________________________________________\n",
            "block8_sepconv3_act (Activation (None, 16, 16, 728)  0           block8_sepconv2_bn[0][0]         \n",
            "__________________________________________________________________________________________________\n",
            "block8_sepconv3 (SeparableConv2 (None, 16, 16, 728)  536536      block8_sepconv3_act[0][0]        \n",
            "__________________________________________________________________________________________________\n",
            "block8_sepconv3_bn (BatchNormal (None, 16, 16, 728)  2912        block8_sepconv3[0][0]            \n",
            "__________________________________________________________________________________________________\n",
            "add_23 (Add)                    (None, 16, 16, 728)  0           block8_sepconv3_bn[0][0]         \n",
            "                                                                 add_22[0][0]                     \n",
            "__________________________________________________________________________________________________\n",
            "block9_sepconv1_act (Activation (None, 16, 16, 728)  0           add_23[0][0]                     \n",
            "__________________________________________________________________________________________________\n",
            "block9_sepconv1 (SeparableConv2 (None, 16, 16, 728)  536536      block9_sepconv1_act[0][0]        \n",
            "__________________________________________________________________________________________________\n",
            "block9_sepconv1_bn (BatchNormal (None, 16, 16, 728)  2912        block9_sepconv1[0][0]            \n",
            "__________________________________________________________________________________________________\n",
            "block9_sepconv2_act (Activation (None, 16, 16, 728)  0           block9_sepconv1_bn[0][0]         \n",
            "__________________________________________________________________________________________________\n",
            "block9_sepconv2 (SeparableConv2 (None, 16, 16, 728)  536536      block9_sepconv2_act[0][0]        \n",
            "__________________________________________________________________________________________________\n",
            "block9_sepconv2_bn (BatchNormal (None, 16, 16, 728)  2912        block9_sepconv2[0][0]            \n",
            "__________________________________________________________________________________________________\n",
            "block9_sepconv3_act (Activation (None, 16, 16, 728)  0           block9_sepconv2_bn[0][0]         \n",
            "__________________________________________________________________________________________________\n",
            "block9_sepconv3 (SeparableConv2 (None, 16, 16, 728)  536536      block9_sepconv3_act[0][0]        \n",
            "__________________________________________________________________________________________________\n",
            "block9_sepconv3_bn (BatchNormal (None, 16, 16, 728)  2912        block9_sepconv3[0][0]            \n",
            "__________________________________________________________________________________________________\n",
            "add_24 (Add)                    (None, 16, 16, 728)  0           block9_sepconv3_bn[0][0]         \n",
            "                                                                 add_23[0][0]                     \n",
            "__________________________________________________________________________________________________\n",
            "block10_sepconv1_act (Activatio (None, 16, 16, 728)  0           add_24[0][0]                     \n",
            "__________________________________________________________________________________________________\n",
            "block10_sepconv1 (SeparableConv (None, 16, 16, 728)  536536      block10_sepconv1_act[0][0]       \n",
            "__________________________________________________________________________________________________\n",
            "block10_sepconv1_bn (BatchNorma (None, 16, 16, 728)  2912        block10_sepconv1[0][0]           \n",
            "__________________________________________________________________________________________________\n",
            "block10_sepconv2_act (Activatio (None, 16, 16, 728)  0           block10_sepconv1_bn[0][0]        \n",
            "__________________________________________________________________________________________________\n",
            "block10_sepconv2 (SeparableConv (None, 16, 16, 728)  536536      block10_sepconv2_act[0][0]       \n",
            "__________________________________________________________________________________________________\n",
            "block10_sepconv2_bn (BatchNorma (None, 16, 16, 728)  2912        block10_sepconv2[0][0]           \n",
            "__________________________________________________________________________________________________\n",
            "block10_sepconv3_act (Activatio (None, 16, 16, 728)  0           block10_sepconv2_bn[0][0]        \n",
            "__________________________________________________________________________________________________\n",
            "block10_sepconv3 (SeparableConv (None, 16, 16, 728)  536536      block10_sepconv3_act[0][0]       \n",
            "__________________________________________________________________________________________________\n",
            "block10_sepconv3_bn (BatchNorma (None, 16, 16, 728)  2912        block10_sepconv3[0][0]           \n",
            "__________________________________________________________________________________________________\n",
            "add_25 (Add)                    (None, 16, 16, 728)  0           block10_sepconv3_bn[0][0]        \n",
            "                                                                 add_24[0][0]                     \n",
            "__________________________________________________________________________________________________\n",
            "block11_sepconv1_act (Activatio (None, 16, 16, 728)  0           add_25[0][0]                     \n",
            "__________________________________________________________________________________________________\n",
            "block11_sepconv1 (SeparableConv (None, 16, 16, 728)  536536      block11_sepconv1_act[0][0]       \n",
            "__________________________________________________________________________________________________\n",
            "block11_sepconv1_bn (BatchNorma (None, 16, 16, 728)  2912        block11_sepconv1[0][0]           \n",
            "__________________________________________________________________________________________________\n",
            "block11_sepconv2_act (Activatio (None, 16, 16, 728)  0           block11_sepconv1_bn[0][0]        \n",
            "__________________________________________________________________________________________________\n",
            "block11_sepconv2 (SeparableConv (None, 16, 16, 728)  536536      block11_sepconv2_act[0][0]       \n",
            "__________________________________________________________________________________________________\n",
            "block11_sepconv2_bn (BatchNorma (None, 16, 16, 728)  2912        block11_sepconv2[0][0]           \n",
            "__________________________________________________________________________________________________\n",
            "block11_sepconv3_act (Activatio (None, 16, 16, 728)  0           block11_sepconv2_bn[0][0]        \n",
            "__________________________________________________________________________________________________\n",
            "block11_sepconv3 (SeparableConv (None, 16, 16, 728)  536536      block11_sepconv3_act[0][0]       \n",
            "__________________________________________________________________________________________________\n",
            "block11_sepconv3_bn (BatchNorma (None, 16, 16, 728)  2912        block11_sepconv3[0][0]           \n",
            "__________________________________________________________________________________________________\n",
            "add_26 (Add)                    (None, 16, 16, 728)  0           block11_sepconv3_bn[0][0]        \n",
            "                                                                 add_25[0][0]                     \n",
            "__________________________________________________________________________________________________\n",
            "block12_sepconv1_act (Activatio (None, 16, 16, 728)  0           add_26[0][0]                     \n",
            "__________________________________________________________________________________________________\n",
            "block12_sepconv1 (SeparableConv (None, 16, 16, 728)  536536      block12_sepconv1_act[0][0]       \n",
            "__________________________________________________________________________________________________\n",
            "block12_sepconv1_bn (BatchNorma (None, 16, 16, 728)  2912        block12_sepconv1[0][0]           \n",
            "__________________________________________________________________________________________________\n",
            "block12_sepconv2_act (Activatio (None, 16, 16, 728)  0           block12_sepconv1_bn[0][0]        \n",
            "__________________________________________________________________________________________________\n",
            "block12_sepconv2 (SeparableConv (None, 16, 16, 728)  536536      block12_sepconv2_act[0][0]       \n",
            "__________________________________________________________________________________________________\n",
            "block12_sepconv2_bn (BatchNorma (None, 16, 16, 728)  2912        block12_sepconv2[0][0]           \n",
            "__________________________________________________________________________________________________\n",
            "block12_sepconv3_act (Activatio (None, 16, 16, 728)  0           block12_sepconv2_bn[0][0]        \n",
            "__________________________________________________________________________________________________\n",
            "block12_sepconv3 (SeparableConv (None, 16, 16, 728)  536536      block12_sepconv3_act[0][0]       \n",
            "__________________________________________________________________________________________________\n",
            "block12_sepconv3_bn (BatchNorma (None, 16, 16, 728)  2912        block12_sepconv3[0][0]           \n",
            "__________________________________________________________________________________________________\n",
            "add_27 (Add)                    (None, 16, 16, 728)  0           block12_sepconv3_bn[0][0]        \n",
            "                                                                 add_26[0][0]                     \n",
            "__________________________________________________________________________________________________\n",
            "block13_sepconv1_act (Activatio (None, 16, 16, 728)  0           add_27[0][0]                     \n",
            "__________________________________________________________________________________________________\n",
            "block13_sepconv1 (SeparableConv (None, 16, 16, 728)  536536      block13_sepconv1_act[0][0]       \n",
            "__________________________________________________________________________________________________\n",
            "block13_sepconv1_bn (BatchNorma (None, 16, 16, 728)  2912        block13_sepconv1[0][0]           \n",
            "__________________________________________________________________________________________________\n",
            "block13_sepconv2_act (Activatio (None, 16, 16, 728)  0           block13_sepconv1_bn[0][0]        \n",
            "__________________________________________________________________________________________________\n",
            "block13_sepconv2 (SeparableConv (None, 16, 16, 1024) 752024      block13_sepconv2_act[0][0]       \n",
            "__________________________________________________________________________________________________\n",
            "block13_sepconv2_bn (BatchNorma (None, 16, 16, 1024) 4096        block13_sepconv2[0][0]           \n",
            "__________________________________________________________________________________________________\n",
            "conv2d_98 (Conv2D)              (None, 8, 8, 1024)   745472      add_27[0][0]                     \n",
            "__________________________________________________________________________________________________\n",
            "block13_pool (MaxPooling2D)     (None, 8, 8, 1024)   0           block13_sepconv2_bn[0][0]        \n",
            "__________________________________________________________________________________________________\n",
            "batch_normalization_98 (BatchNo (None, 8, 8, 1024)   4096        conv2d_98[0][0]                  \n",
            "__________________________________________________________________________________________________\n",
            "add_28 (Add)                    (None, 8, 8, 1024)   0           block13_pool[0][0]               \n",
            "                                                                 batch_normalization_98[0][0]     \n",
            "__________________________________________________________________________________________________\n",
            "block14_sepconv1 (SeparableConv (None, 8, 8, 1536)   1582080     add_28[0][0]                     \n",
            "__________________________________________________________________________________________________\n",
            "block14_sepconv1_bn (BatchNorma (None, 8, 8, 1536)   6144        block14_sepconv1[0][0]           \n",
            "__________________________________________________________________________________________________\n",
            "block14_sepconv1_act (Activatio (None, 8, 8, 1536)   0           block14_sepconv1_bn[0][0]        \n",
            "__________________________________________________________________________________________________\n",
            "block14_sepconv2 (SeparableConv (None, 8, 8, 2048)   3159552     block14_sepconv1_act[0][0]       \n",
            "__________________________________________________________________________________________________\n",
            "block14_sepconv2_bn (BatchNorma (None, 8, 8, 2048)   8192        block14_sepconv2[0][0]           \n",
            "__________________________________________________________________________________________________\n",
            "block14_sepconv2_act (Activatio (None, 8, 8, 2048)   0           block14_sepconv2_bn[0][0]        \n",
            "__________________________________________________________________________________________________\n",
            "global_max_pooling2d_5 (GlobalM (None, 2048)         0           block14_sepconv2_act[0][0]       \n",
            "__________________________________________________________________________________________________\n",
            "dense_5 (Dense)                 (None, 4)            8196        global_max_pooling2d_5[0][0]     \n",
            "==================================================================================================\n",
            "Total params: 20,869,676\n",
            "Trainable params: 20,815,148\n",
            "Non-trainable params: 54,528\n",
            "__________________________________________________________________________________________________\n"
          ],
          "name": "stdout"
        }
      ]
    },
    {
      "cell_type": "code",
      "metadata": {
        "colab_type": "code",
        "id": "dpzW_xavY2sk",
        "colab": {}
      },
      "source": [
        "#Split training data into rain set and validation set\n",
        "from sklearn.model_selection import train_test_split\n",
        "X_train, X_valid, Y_train, Y_valid=train_test_split(train_img,train_y,test_size=0.30, random_state=121)"
      ],
      "execution_count": null,
      "outputs": []
    },
    {
      "cell_type": "code",
      "metadata": {
        "id": "PjLhRLxQ8xGr",
        "colab_type": "code",
        "colab": {}
      },
      "source": [
        "\n",
        "#Data augmentation\n",
        "from keras.preprocessing.image import ImageDataGenerator\n",
        "gen_train = ImageDataGenerator( \n",
        "    rotation_range=30,\n",
        "    width_shift_range=0.2,\n",
        "    height_shift_range=0.2,\n",
        "    horizontal_flip=True,\n",
        "    vertical_flip=True\n",
        "\n",
        ")\n",
        "gen_train.fit(X_train)\n",
        "\n"
      ],
      "execution_count": null,
      "outputs": []
    },
    {
      "cell_type": "code",
      "metadata": {
        "id": "Te8BiEYN1BZJ",
        "colab_type": "code",
        "colab": {
          "base_uri": "https://localhost:8080/",
          "height": 709
        },
        "outputId": "0c46a777-7d5b-4d84-d3e9-37a856ac065c"
      },
      "source": [
        "from keras.callbacks import ModelCheckpoint\n",
        "model_checkpoint = ModelCheckpoint('/content/gdrive/My Drive/my_checkpoint/ahmad-xcep.h5', monitor='val_loss', save_best_only=True)\n",
        "\n",
        "history = model.fit_generator(gen_train.flow(X_train, Y_train, batch_size=32, shuffle=True), \n",
        "                    steps_per_epoch=(X_train.shape[0]//(4*batch_size)), \n",
        "                    epochs=epochs, \n",
        "                    validation_data=(X_valid,Y_valid),\n",
        "                    callbacks=[model_checkpoint],\n",
        "                    verbose=1)"
      ],
      "execution_count": null,
      "outputs": [
        {
          "output_type": "stream",
          "text": [
            "Epoch 1/20\n",
            "3/3 [==============================] - 14s 5s/step - loss: 2.0344 - accuracy: 0.2917 - fscore: 0.2646 - val_loss: 3.9030 - val_accuracy: 0.1336 - val_fscore: 0.1328\n",
            "Epoch 2/20\n",
            "3/3 [==============================] - 5s 2s/step - loss: 1.1685 - accuracy: 0.5417 - fscore: 0.3893 - val_loss: 2.9480 - val_accuracy: 0.1336 - val_fscore: 0.1328\n",
            "Epoch 3/20\n",
            "3/3 [==============================] - 5s 2s/step - loss: 1.0351 - accuracy: 0.5521 - fscore: 0.4259 - val_loss: 2.3023 - val_accuracy: 0.1301 - val_fscore: 0.1269\n",
            "Epoch 4/20\n",
            "3/3 [==============================] - 5s 2s/step - loss: 1.0602 - accuracy: 0.5521 - fscore: 0.3473 - val_loss: 2.0656 - val_accuracy: 0.1347 - val_fscore: 0.1153\n",
            "Epoch 5/20\n",
            "3/3 [==============================] - 5s 2s/step - loss: 1.0751 - accuracy: 0.5000 - fscore: 0.4682 - val_loss: 1.9180 - val_accuracy: 0.1521 - val_fscore: 0.1067\n",
            "Epoch 6/20\n",
            "3/3 [==============================] - 5s 2s/step - loss: 0.7360 - accuracy: 0.7292 - fscore: 0.6280 - val_loss: 1.7826 - val_accuracy: 0.1882 - val_fscore: 0.1210\n",
            "Epoch 7/20\n",
            "3/3 [==============================] - 5s 2s/step - loss: 0.5151 - accuracy: 0.8333 - fscore: 0.8242 - val_loss: 1.6631 - val_accuracy: 0.2218 - val_fscore: 0.1466\n",
            "Epoch 8/20\n",
            "3/3 [==============================] - 5s 2s/step - loss: 0.4922 - accuracy: 0.8229 - fscore: 0.8281 - val_loss: 1.5955 - val_accuracy: 0.2636 - val_fscore: 0.1737\n",
            "Epoch 9/20\n",
            "3/3 [==============================] - 5s 2s/step - loss: 0.6976 - accuracy: 0.6875 - fscore: 0.6961 - val_loss: 1.5779 - val_accuracy: 0.2938 - val_fscore: 0.2368\n",
            "Epoch 10/20\n",
            "3/3 [==============================] - 5s 2s/step - loss: 0.7740 - accuracy: 0.7188 - fscore: 0.7274 - val_loss: 1.6355 - val_accuracy: 0.3148 - val_fscore: 0.2925\n",
            "Epoch 11/20\n",
            "3/3 [==============================] - 5s 2s/step - loss: 0.6072 - accuracy: 0.7708 - fscore: 0.7900 - val_loss: 1.6695 - val_accuracy: 0.3333 - val_fscore: 0.3210\n",
            "Epoch 12/20\n",
            "3/3 [==============================] - 5s 2s/step - loss: 0.4312 - accuracy: 0.8229 - fscore: 0.7946 - val_loss: 1.6233 - val_accuracy: 0.3682 - val_fscore: 0.3554\n",
            "Epoch 13/20\n",
            "3/3 [==============================] - 5s 2s/step - loss: 0.5305 - accuracy: 0.7812 - fscore: 0.7732 - val_loss: 1.5954 - val_accuracy: 0.3844 - val_fscore: 0.3773\n",
            "Epoch 14/20\n",
            "3/3 [==============================] - 6s 2s/step - loss: 0.6823 - accuracy: 0.7528 - fscore: 0.7290 - val_loss: 1.4751 - val_accuracy: 0.4228 - val_fscore: 0.4135\n",
            "Epoch 15/20\n",
            "3/3 [==============================] - 5s 2s/step - loss: 0.5253 - accuracy: 0.8229 - fscore: 0.8128 - val_loss: 1.3642 - val_accuracy: 0.4518 - val_fscore: 0.4348\n",
            "Epoch 16/20\n",
            "3/3 [==============================] - 5s 2s/step - loss: 0.3042 - accuracy: 0.9271 - fscore: 0.9022 - val_loss: 1.2991 - val_accuracy: 0.4402 - val_fscore: 0.4403\n",
            "Epoch 17/20\n",
            "3/3 [==============================] - 5s 2s/step - loss: 0.2732 - accuracy: 0.8854 - fscore: 0.9082 - val_loss: 1.2831 - val_accuracy: 0.4355 - val_fscore: 0.4270\n",
            "Epoch 18/20\n",
            "3/3 [==============================] - 5s 2s/step - loss: 0.4100 - accuracy: 0.8229 - fscore: 0.8280 - val_loss: 1.3001 - val_accuracy: 0.4437 - val_fscore: 0.4315\n",
            "Epoch 19/20\n",
            "3/3 [==============================] - 5s 2s/step - loss: 0.3210 - accuracy: 0.8750 - fscore: 0.8815 - val_loss: 1.3337 - val_accuracy: 0.4332 - val_fscore: 0.4299\n",
            "Epoch 20/20\n",
            "3/3 [==============================] - 5s 2s/step - loss: 0.3227 - accuracy: 0.8750 - fscore: 0.8680 - val_loss: 1.3292 - val_accuracy: 0.4390 - val_fscore: 0.4348\n"
          ],
          "name": "stdout"
        }
      ]
    },
    {
      "cell_type": "code",
      "metadata": {
        "id": "cmtSJOVi1Qzx",
        "colab_type": "code",
        "colab": {
          "base_uri": "https://localhost:8080/",
          "height": 808
        },
        "outputId": "1987c1b6-33b0-405f-ac14-14113bbccfb9"
      },
      "source": [
        "import matplotlib.pyplot as plt\n",
        "import numpy as np\n",
        "plt.figure(0)\n",
        "plt.plot(history.history['accuracy'],'b')\n",
        "plt.plot(history.history['val_accuracy'],'bo')\n",
        "plt.xticks(np.arange(0, 20, 1.0))\n",
        "plt.rcParams['figure.figsize'] = (8, 6)\n",
        "plt.xlabel(\"Num of Epochs\")\n",
        "plt.ylabel(\"Accuracy\")\n",
        "plt.title(\"Training Accuracy vs Validation Accuracy\")\n",
        "plt.legend(['train','validation'])\n",
        " \n",
        "plt.figure(1)\n",
        "plt.plot(history.history['loss'],'b')\n",
        "plt.plot(history.history['val_loss'],'bo')\n",
        "plt.xticks(np.arange(0, 20, 1.0))\n",
        "plt.rcParams['figure.figsize'] = (8, 6)\n",
        "plt.xlabel(\"Num of Epochs\")\n",
        "plt.ylabel(\"Loss\")\n",
        "plt.title(\"Training Loss vs Validation Loss\")\n",
        "plt.legend(['train','validation'])\n"
      ],
      "execution_count": null,
      "outputs": [
        {
          "output_type": "execute_result",
          "data": {
            "text/plain": [
              "<matplotlib.legend.Legend at 0x7f19045ecb00>"
            ]
          },
          "metadata": {
            "tags": []
          },
          "execution_count": 55
        },
        {
          "output_type": "display_data",
          "data": {
            "image/png": "[encoded data removed]",
            "text/plain": [
              "<Figure size 576x432 with 1 Axes>"
            ]
          },
          "metadata": {
            "tags": [],
            "needs_background": "light"
          }
        },
        {
          "output_type": "display_data",
          "data": {
            "image/png": "[encoded data removed]",
            "text/plain": [
              "<Figure size 576x432 with 1 Axes>"
            ]
          },
          "metadata": {
            "tags": [],
            "needs_background": "light"
          }
        }
      ]
    },
    {
      "cell_type": "code",
      "metadata": {
        "id": "6y-Cp61j4EDx",
        "colab_type": "code",
        "colab": {}
      },
      "source": [
        "model.save_weights(\"/content/gdrive/My Drive/my_checkpoint/ahmad-xcep.h5\")\n",
        " "
      ],
      "execution_count": null,
      "outputs": []
    },
    {
      "cell_type": "code",
      "metadata": {
        "id": "2yWakqpDgC3F",
        "colab_type": "code",
        "colab": {
          "base_uri": "https://localhost:8080/",
          "height": 726
        },
        "outputId": "e171f518-949b-4c68-ff11-cb3e5044c61c"
      },
      "source": [
        "from keras.callbacks import ModelCheckpoint\n",
        "model_checkpoint = ModelCheckpoint('/content/gdrive/My Drive/my_checkpoint/ahmad-xcep.h5', monitor='val_loss', save_best_only=True)\n",
        "\n",
        "history = model.fit(X_train, Y_train,\n",
        "                    batch_size=32, \n",
        "                    epochs=epochs, \n",
        "                    validation_data=(X_valid,Y_valid),\n",
        "                    shuffle=True, \n",
        "                    callbacks=[model_checkpoint],\n",
        "                    verbose=1)\n",
        " "
      ],
      "execution_count": null,
      "outputs": [
        {
          "output_type": "stream",
          "text": [
            "Train on 2009 samples, validate on 861 samples\n",
            "Epoch 1/20\n",
            "2009/2009 [==============================] - 37s 18ms/step - loss: 0.2732 - accuracy: 0.9000 - fscore: 0.9014 - val_loss: 0.7623 - val_accuracy: 0.6527 - val_fscore: 0.6478\n",
            "Epoch 2/20\n",
            "2009/2009 [==============================] - 37s 18ms/step - loss: 0.0262 - accuracy: 0.9935 - fscore: 0.9933 - val_loss: 0.2733 - val_accuracy: 0.8873 - val_fscore: 0.8935\n",
            "Epoch 3/20\n",
            "2009/2009 [==============================] - 37s 18ms/step - loss: 0.0131 - accuracy: 0.9965 - fscore: 0.9965 - val_loss: 0.1713 - val_accuracy: 0.9408 - val_fscore: 0.9403\n",
            "Epoch 4/20\n",
            "2009/2009 [==============================] - 37s 18ms/step - loss: 0.0112 - accuracy: 0.9955 - fscore: 0.9955 - val_loss: 0.1804 - val_accuracy: 0.9466 - val_fscore: 0.9459\n",
            "Epoch 5/20\n",
            "2009/2009 [==============================] - 37s 18ms/step - loss: 0.0089 - accuracy: 0.9985 - fscore: 0.9985 - val_loss: 0.1760 - val_accuracy: 0.9524 - val_fscore: 0.9522\n",
            "Epoch 6/20\n",
            "2009/2009 [==============================] - 37s 18ms/step - loss: 0.0114 - accuracy: 0.9960 - fscore: 0.9960 - val_loss: 0.2841 - val_accuracy: 0.9233 - val_fscore: 0.9257\n",
            "Epoch 7/20\n",
            "2009/2009 [==============================] - 37s 18ms/step - loss: 0.0155 - accuracy: 0.9965 - fscore: 0.9963 - val_loss: 0.2322 - val_accuracy: 0.9524 - val_fscore: 0.9524\n",
            "Epoch 8/20\n",
            "2009/2009 [==============================] - 37s 18ms/step - loss: 0.0130 - accuracy: 0.9970 - fscore: 0.9970 - val_loss: 0.2659 - val_accuracy: 0.9466 - val_fscore: 0.9473\n",
            "Epoch 9/20\n",
            "2009/2009 [==============================] - 37s 18ms/step - loss: 0.0158 - accuracy: 0.9945 - fscore: 0.9944 - val_loss: 0.1381 - val_accuracy: 0.9698 - val_fscore: 0.9704\n",
            "Epoch 10/20\n",
            "2009/2009 [==============================] - 37s 18ms/step - loss: 0.0084 - accuracy: 0.9985 - fscore: 0.9983 - val_loss: 0.2083 - val_accuracy: 0.9640 - val_fscore: 0.9641\n",
            "Epoch 11/20\n",
            "2009/2009 [==============================] - 37s 18ms/step - loss: 0.0042 - accuracy: 0.9995 - fscore: 0.9995 - val_loss: 0.1675 - val_accuracy: 0.9652 - val_fscore: 0.9652\n",
            "Epoch 12/20\n",
            "2009/2009 [==============================] - 37s 18ms/step - loss: 0.0183 - accuracy: 0.9940 - fscore: 0.9940 - val_loss: 0.2304 - val_accuracy: 0.9640 - val_fscore: 0.9635\n",
            "Epoch 13/20\n",
            "2009/2009 [==============================] - 37s 18ms/step - loss: 0.0193 - accuracy: 0.9950 - fscore: 0.9953 - val_loss: 0.3513 - val_accuracy: 0.9408 - val_fscore: 0.9414\n",
            "Epoch 14/20\n",
            "2009/2009 [==============================] - 37s 18ms/step - loss: 0.0132 - accuracy: 0.9965 - fscore: 0.9965 - val_loss: 0.2603 - val_accuracy: 0.9512 - val_fscore: 0.9514\n",
            "Epoch 15/20\n",
            "2009/2009 [==============================] - 37s 18ms/step - loss: 0.0013 - accuracy: 1.0000 - fscore: 1.0000 - val_loss: 0.1755 - val_accuracy: 0.9640 - val_fscore: 0.9647\n",
            "Epoch 16/20\n",
            "2009/2009 [==============================] - 37s 18ms/step - loss: 3.4412e-04 - accuracy: 1.0000 - fscore: 1.0000 - val_loss: 0.1742 - val_accuracy: 0.9675 - val_fscore: 0.9670\n",
            "Epoch 17/20\n",
            "2009/2009 [==============================] - 37s 18ms/step - loss: 0.0046 - accuracy: 0.9990 - fscore: 0.9989 - val_loss: 0.2137 - val_accuracy: 0.9628 - val_fscore: 0.9639\n",
            "Epoch 18/20\n",
            "2009/2009 [==============================] - 37s 18ms/step - loss: 0.0042 - accuracy: 0.9990 - fscore: 0.9993 - val_loss: 0.1884 - val_accuracy: 0.9605 - val_fscore: 0.9606\n",
            "Epoch 19/20\n",
            "2009/2009 [==============================] - 37s 18ms/step - loss: 0.0017 - accuracy: 1.0000 - fscore: 1.0000 - val_loss: 0.2000 - val_accuracy: 0.9640 - val_fscore: 0.9641\n",
            "Epoch 20/20\n",
            "2009/2009 [==============================] - 37s 18ms/step - loss: 4.1369e-04 - accuracy: 1.0000 - fscore: 1.0000 - val_loss: 0.1901 - val_accuracy: 0.9617 - val_fscore: 0.9618\n"
          ],
          "name": "stdout"
        }
      ]
    },
    {
      "cell_type": "code",
      "metadata": {
        "id": "8Uc0lKspFLVb",
        "colab_type": "code",
        "colab": {
          "base_uri": "https://localhost:8080/",
          "height": 808
        },
        "outputId": "43153936-69d7-4818-9307-0494580a3e5b"
      },
      "source": [
        "import matplotlib.pyplot as plt\n",
        "import numpy as np\n",
        "plt.figure(0)\n",
        "plt.plot(history.history['accuracy'],'b')\n",
        "plt.plot(history.history['val_accuracy'],'bo')\n",
        "plt.xticks(np.arange(0, 20, 1.0))\n",
        "plt.rcParams['figure.figsize'] = (8, 6)\n",
        "plt.xlabel(\"Num of Epochs\")\n",
        "plt.ylabel(\"Accuracy\")\n",
        "plt.title(\"Training Accuracy vs Validation Accuracy\")\n",
        "plt.legend(['train','validation'])\n",
        " \n",
        "plt.figure(1)\n",
        "plt.plot(history.history['loss'],'b')\n",
        "plt.plot(history.history['val_loss'],'bo')\n",
        "plt.xticks(np.arange(0, 20, 1.0))\n",
        "plt.rcParams['figure.figsize'] = (8, 6)\n",
        "plt.xlabel(\"Num of Epochs\")\n",
        "plt.ylabel(\"Loss\")\n",
        "plt.title(\"Training Loss vs Validation Loss\")\n",
        "plt.legend(['train','validation'])\n",
        "\n"
      ],
      "execution_count": null,
      "outputs": [
        {
          "output_type": "execute_result",
          "data": {
            "text/plain": [
              "<matplotlib.legend.Legend at 0x7f19044a3048>"
            ]
          },
          "metadata": {
            "tags": []
          },
          "execution_count": 57
        },
        {
          "output_type": "display_data",
          "data": {
            "image/png": "[encoded data removed]",
            "text/plain": [
              "<Figure size 576x432 with 1 Axes>"
            ]
          },
          "metadata": {
            "tags": [],
            "needs_background": "light"
          }
        },
        {
          "output_type": "display_data",
          "data": {
            "image/png": "[encoded data removed]",
            "text/plain": [
              "<Figure size 576x432 with 1 Axes>"
            ]
          },
          "metadata": {
            "tags": [],
            "needs_background": "light"
          }
        }
      ]
    },
    {
      "cell_type": "code",
      "metadata": {
        "id": "ctaowdqgC2NX",
        "colab_type": "code",
        "colab": {}
      },
      "source": [
        ""
      ],
      "execution_count": null,
      "outputs": []
    },
    {
      "cell_type": "code",
      "metadata": {
        "id": "cx2okNz8Dd6x",
        "colab_type": "code",
        "colab": {}
      },
      "source": [
        "model.load_weights(\"/content/gdrive/My Drive/my_checkpoint/ahmad-xcep.h5\")\n",
        " "
      ],
      "execution_count": null,
      "outputs": []
    },
    {
      "cell_type": "code",
      "metadata": {
        "id": "19ssZRoj7f14",
        "colab_type": "code",
        "colab": {
          "base_uri": "https://localhost:8080/",
          "height": 101
        },
        "outputId": "70afdc56-0bff-42cd-cd43-157083220809"
      },
      "source": [
        "import fnmatch\n",
        "import os\n",
        "import numpy as np\n",
        "import pandas as pd\n",
        "# pre-trained model \n",
        "from keras.preprocessing import image\n",
        "from keras.applications.vgg16 import preprocess_input\n",
        "import numpy as np\n",
        "\n",
        "np.random.seed(21)\n",
        "totalAll=0\n",
        "countAll =0\n",
        "\n",
        "path = \"/content/gdrive/My Drive/ahmad-saleh/Test1/\"\n",
        "num2label = {0:'glioma_tumor',1:'meningioma_tumor',2:'no_tumor', 3:'pituitary_tumor'}\n",
        "label2num = {'glioma_tumor':0,'meningioma_tumor':1,'no_tumor':2, 'pituitary_tumor':3}\n",
        "for i in os.listdir(path):\n",
        "    \n",
        "    label_number = label2num[i]\n",
        "    new_path = path+i+'/'  \n",
        "    count=0\n",
        "    total=0\n",
        "    for j in fnmatch.filter(os.listdir(new_path), '*.jpg')[0:100]: \n",
        "        img = image.load_img(new_path+j, target_size=(256, 256) )\n",
        "        x = image.img_to_array(img)\n",
        "        x = np.expand_dims(x, axis=0)\n",
        "        x = preprocess_input(x)\n",
        "        pred=model.predict(x)\n",
        "        max_score =0.0\n",
        "        lab=-1\n",
        "        pred = pred[0]\n",
        "        for k in range(4):\n",
        "            if (pred[k]>max_score):\n",
        "                max_score=pred[k]\n",
        "                lab=k\n",
        "       \n",
        "        file = num2label[lab]\n",
        "        total=total+1\n",
        "        if file == i:\n",
        "             count=count+1\n",
        "    countAll=countAll + count\n",
        "    totalAll = totalAll + total\n",
        "    print('count total : ', i, count, total)\n",
        "print('acc= : ', countAll, totalAll, countAll/totalAll*100)\n",
        "\n"
      ],
      "execution_count": null,
      "outputs": [
        {
          "output_type": "stream",
          "text": [
            "count total :  glioma_tumor 99 100\n",
            "count total :  meningioma_tumor 99 100\n",
            "count total :  no_tumor 97 100\n",
            "count total :  pituitary_tumor 100 100\n",
            "acc= :  395 400 98.75\n"
          ],
          "name": "stdout"
        }
      ]
    }
  ]
}